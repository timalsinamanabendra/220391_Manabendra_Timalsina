{
  "nbformat": 4,
  "nbformat_minor": 0,
  "metadata": {
    "colab": {
      "provenance": [],
      "mount_file_id": "1JuEFZdLI-u_fyBLgUYlj62hcT-rKshbe",
      "authorship_tag": "ABX9TyPsLQPW8jwS95i+RFbtWnQr",
      "include_colab_link": true
    },
    "kernelspec": {
      "name": "python3",
      "display_name": "Python 3"
    },
    "language_info": {
      "name": "python"
    }
  },
  "cells": [
    {
      "cell_type": "markdown",
      "metadata": {
        "id": "view-in-github",
        "colab_type": "text"
      },
      "source": [
        "<a href=\"https://colab.research.google.com/github/timalsinamanabendra/220391_Manabendra_Timalsina/blob/main/Untitled1.ipynb\" target=\"_parent\"><img src=\"https://colab.research.google.com/assets/colab-badge.svg\" alt=\"Open In Colab\"/></a>"
      ]
    },
    {
      "cell_type": "code",
      "execution_count": null,
      "metadata": {
        "id": "nwSxzw_PpkuP"
      },
      "outputs": [],
      "source": []
    },
    {
      "cell_type": "code",
      "source": [
        "import pandas as pd\n",
        "import numpy as np\n",
        "from datetime import datetime, timedelta"
      ],
      "metadata": {
        "id": "9qcgTxUHpmXt"
      },
      "execution_count": 21,
      "outputs": []
    },
    {
      "cell_type": "code",
      "source": [
        "def generate_normal_traffic():\n",
        "  return{\n",
        "      'timestamp': datetime.now() - timedelta(seconds=np.random.randint(0, 86400)),\n",
        "      'source_ip': f'192.168.{np.random.randint(0, 255)}.{np.random.randint(0, 255)}',\n",
        "      'destination_ip': f'10.0.{np.random.randint(0, 255)}.{np.random.randint(0, 255)}',\n",
        "      'protocol': np.random.choice(['TCP','UDP', 'ICMP']),\n",
        "      'port': np.random.randint(1, 65535),\n",
        "      'bytes': np.random.normal(1500, 500),\n",
        "      'packets' : np.random.randint(1, 100),\n",
        "      'duration' : np.random.randint(1, 100),\n",
        "      'is_attack' : 0\n",
        "\n",
        "  }\n"
      ],
      "metadata": {
        "id": "7Pvcz4mNq1T1"
      },
      "execution_count": 22,
      "outputs": []
    },
    {
      "cell_type": "code",
      "source": [
        "def generate_attack_traffic():\n",
        "  \"\"\"Generate attack traffic data.\"\"\"\n",
        "  attack_types = {\n",
        "      'ddos': {\n",
        "          'bytes': {'loc': 10, 'scale': 1000}, # Use a dictionary for normal distribution parameters\n",
        "          'packets' : {'low': 500, 'high': 1000}, # Use a dictionary for randint parameters\n",
        "          'duration' : {'scale': 5} # Use a dictionary for exponential parameters\n",
        "      },\n",
        "      'port_scan': {\n",
        "          'bytes': {'loc': 100, 'scale': 20},\n",
        "          'packets' : {'low': 1, 'high': 3},\n",
        "          'duration' : {'scale': 0.1}\n",
        "    },\n",
        "    'brute_force':{\n",
        "        'bytes': {'loc': 500, 'scale': 100},\n",
        "        'packets' : {'low': 10, 'high': 50},\n",
        "        'duration' : {'scale': 1}\n",
        "    },\n",
        "  }\n",
        "  attack_type = np.random.choice(list(attack_types.keys()))\n",
        "  attack_params = attack_types[attack_type]\n",
        "  return{\n",
        "      'timestamp': datetime.now() - timedelta(seconds= np.random.randint(0, 86400)),\n",
        "      # Fixed f-string syntax for source_ip\n",
        "      'source_ip': f\"45.{np.random.randint(1, 255)}.{np.random.randint(1, 255)}.{np.random.randint(1, 255)}\",\n",
        "      # Fixed f-string syntax for destination_ip\n",
        "      'destination_ip': f\"10.0.{np.random.randint(1, 255)}.{np.random.randint(1, 255)}\",\n",
        "      'protocol': np.random.choice(['TCP', 'UDP', 'ICMP'], p=[0.8, 0.1, 0.1]),\n",
        "      'port': np.random.randint(1, 65535),\n",
        "      # Use the parameters from attack_params for the random functions\n",
        "      'bytes': np.random.normal(**attack_params['bytes']), # Use ** to unpack dictionary as arguments\n",
        "      'packets': np.random.randint(**attack_params['packets']),\n",
        "      'duration': np.random.exponential(**attack_params['duration']),\n",
        "      'is_attack': 1,\n",
        "      'attack_type': attack_type # Store the chosen attack type, not the whole dictionary\n",
        "  }"
      ],
      "metadata": {
        "id": "Tmt-LmOmtAYJ"
      },
      "execution_count": 25,
      "outputs": []
    },
    {
      "cell_type": "code",
      "source": [
        "def generate_dataset(normal_samples=10000, attack_samples=1000):\n",
        "  normal_traffic = [generate_normal_traffic() for _ in range(normal_samples)]\n",
        "  attack_traffic = [generate_attack_traffic() for _ in range(attack_samples)]\n",
        "  all_traffic = normal_traffic + attack_traffic\n",
        "  df = pd.DataFrame(all_traffic)\n",
        "  return df"
      ],
      "metadata": {
        "id": "D2VYznG-xVWv"
      },
      "execution_count": 26,
      "outputs": []
    },
    {
      "cell_type": "code",
      "source": [
        "training_data = generate_dataset()\n",
        "training_data.to_csv('/content/drive/MyDrive/Colab Notebooks/trafficedataset.csv', index=False)"
      ],
      "metadata": {
        "id": "TvwAVQKcysd2"
      },
      "execution_count": 30,
      "outputs": []
    }
  ]
}